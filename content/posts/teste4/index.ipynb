{
  "cells": [
    {
      "cell_type": "raw",
      "metadata": {},
      "source": [
        "---\n",
        "title: 'Hello, Quarto'\n",
        "date: '2012-04-06'\n",
        "categories:\n",
        "  - Matplotlib\n",
        "  - Coordinates\n",
        "format: hugo-md\n",
        "---"
      ],
      "id": "585eb517"
    },
    {
      "cell_type": "markdown",
      "metadata": {},
      "source": [
        "## Polar Axis\n",
        "\n",
        "For a demonstration of a line plot on a polar axis, see @fig-polar.\n",
        "\n",
        "\n",
        "```{r}\n",
        "#| label: fig-polar\n",
        "#| fig-cap: \"A line plot on a polar axis\"\n",
        "print(1 + 1)\n",
        "```"
      ],
      "id": "79e69d21"
    }
  ],
  "metadata": {
    "kernelspec": {
      "name": "python3",
      "language": "python",
      "display_name": "Python 3 (ipykernel)"
    }
  },
  "nbformat": 4,
  "nbformat_minor": 5
}